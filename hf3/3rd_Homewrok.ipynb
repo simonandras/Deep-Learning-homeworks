{
  "nbformat": 4,
  "nbformat_minor": 0,
  "metadata": {
    "colab": {
      "name": "3rd_Homewrok.ipynb",
      "provenance": []
    },
    "kernelspec": {
      "name": "python3",
      "display_name": "Python 3"
    }
  },
  "cells": [
    {
      "cell_type": "markdown",
      "metadata": {
        "id": "85EvrbM6gHJW"
      },
      "source": [
        "# 3rd Homework\n",
        "## András Simon\n",
        "---"
      ]
    },
    {
      "cell_type": "code",
      "metadata": {
        "id": "qrlrre7bdE6o"
      },
      "source": [
        "from google.colab import drive\n",
        "import numpy as np\n",
        "from sklearn.preprocessing import StandardScaler\n",
        "from tensorflow.keras.models import Sequential\n",
        "from tensorflow.keras.layers import Dense, Flatten, Conv1D, MaxPooling1D\n",
        "import matplotlib.pyplot as plt"
      ],
      "execution_count": 1,
      "outputs": []
    },
    {
      "cell_type": "markdown",
      "metadata": {
        "id": "RMwYGiZ8gCY4"
      },
      "source": [
        "I worked in Google Colab, so i had to upload my data. I used Google Drive to menage this."
      ]
    },
    {
      "cell_type": "markdown",
      "metadata": {
        "id": "ux3-60I46QDz"
      },
      "source": [
        "I first stored the data on my computer in budapest_wheather_data.csv, then created the data.npy file with data_prepocessing.py. Then i uploaded the data.npy file to Google Drive and then loaded it to Colab."
      ]
    },
    {
      "cell_type": "code",
      "metadata": {
        "id": "R_jiMc6dfft3",
        "outputId": "a611fb36-3045-4aa5-c57f-b25396eab4fc",
        "colab": {
          "base_uri": "https://localhost:8080/",
          "height": 35
        }
      },
      "source": [
        "drive.mount('/content/drive')"
      ],
      "execution_count": 2,
      "outputs": [
        {
          "output_type": "stream",
          "text": [
            "Mounted at /content/drive\n"
          ],
          "name": "stdout"
        }
      ]
    },
    {
      "cell_type": "markdown",
      "metadata": {
        "id": "AMhrOiaGjHbc"
      },
      "source": [
        "The data is downloaded from http://idojarasbudapest.hu/archivalt-idojaras <br>\n",
        "It contains the following months: <br>\n",
        "2020 June <br>\n",
        "2020 July <br>\n",
        "2020 August <br>\n",
        "2020 September <br>\n",
        "2020 Oktober (the last sample is the 25th day)"
      ]
    },
    {
      "cell_type": "markdown",
      "metadata": {
        "id": "JxHsQhj1hlkZ"
      },
      "source": [
        "The colums are the following: temp_max (celsius), temp_min (celsius), wind (m/s), rainfall (mm) <br>"
      ]
    },
    {
      "cell_type": "code",
      "metadata": {
        "id": "_-GT5oeIftyq",
        "outputId": "6d680f03-f2f7-43bf-b8ea-dd99e1605c35",
        "colab": {
          "base_uri": "https://localhost:8080/",
          "height": 72
        }
      },
      "source": [
        "data = np.load('/content/drive/My Drive/Data/data.npy')\n",
        "\n",
        "data[:3]"
      ],
      "execution_count": 3,
      "outputs": [
        {
          "output_type": "execute_result",
          "data": {
            "text/plain": [
              "array([[22.4, 12.1,  4.3,  1.5],\n",
              "       [19.9, 13.5,  4.8,  0.2],\n",
              "       [21.8, 11.7,  3.9,  1.3]])"
            ]
          },
          "metadata": {
            "tags": []
          },
          "execution_count": 3
        }
      ]
    },
    {
      "cell_type": "markdown",
      "metadata": {
        "id": "7M-y9oABoe2_"
      },
      "source": [
        "Using only the average temperature"
      ]
    },
    {
      "cell_type": "code",
      "metadata": {
        "id": "h0wYzLqhnDod",
        "outputId": "89b82cd3-e926-48ed-ba23-feaede58fdad",
        "colab": {
          "base_uri": "https://localhost:8080/",
          "height": 35
        }
      },
      "source": [
        "temp_data = (data[:, 0] + data[:, 1]) / 2\n",
        "\n",
        "temp_data[:3]"
      ],
      "execution_count": 4,
      "outputs": [
        {
          "output_type": "execute_result",
          "data": {
            "text/plain": [
              "array([17.25, 16.7 , 16.75])"
            ]
          },
          "metadata": {
            "tags": []
          },
          "execution_count": 4
        }
      ]
    },
    {
      "cell_type": "markdown",
      "metadata": {
        "id": "QqWbzmYEj5Tn"
      },
      "source": [
        "Define the model"
      ]
    },
    {
      "cell_type": "code",
      "metadata": {
        "id": "coB3waCDdRiL"
      },
      "source": [
        "def make_1d_convnet(window_size, filter_length, nb_input_series=1, nb_outputs=1, nb_filter=4):\n",
        "    model = Sequential()\n",
        "\n",
        "    model.add(Conv1D(filters=nb_filter, kernel_size=filter_length, activation='relu', input_shape=(window_size, nb_input_series)))\n",
        "    model.add(MaxPooling1D())\n",
        "\n",
        "    model.add(Conv1D(filters=nb_filter, kernel_size=filter_length, activation='relu'))\n",
        "    model.add(MaxPooling1D())\n",
        "\n",
        "    model.add(Flatten())\n",
        "    model.add(Dense(nb_outputs, activation='linear'))\n",
        "\n",
        "    model.compile(loss='mse', optimizer='adam', metrics=['mae'])\n",
        "\n",
        "    return model"
      ],
      "execution_count": 5,
      "outputs": []
    },
    {
      "cell_type": "markdown",
      "metadata": {
        "id": "rEHWrn6YlEEz"
      },
      "source": [
        "Using the data processing and the evaluating fuctions from the lesson <br> https://github.com/BME-SmartLab-Education/vitmav45/blob/master/07/1D-CNN-regression.ipynb"
      ]
    },
    {
      "cell_type": "code",
      "metadata": {
        "id": "EBdCURYNeBeK"
      },
      "source": [
        "def make_timeseries_instances(timeseries, window_size):\n",
        "    timeseries = np.asarray(timeseries)\n",
        "\n",
        "    assert 0 < window_size < timeseries.shape[0] , \"Out of range 0 < {} < {} \".format(window_size,timeseries.shape[0])\n",
        "\n",
        "    X = np.atleast_3d(np.array([timeseries[start:start + window_size] for start in range(0, timeseries.shape[0] - window_size)]))\n",
        "    Y = timeseries[window_size:]  # the target is the average temperature\n",
        "\n",
        "    return X, Y"
      ],
      "execution_count": 6,
      "outputs": []
    },
    {
      "cell_type": "code",
      "metadata": {
        "id": "w0IkZIFokWhv"
      },
      "source": [
        "def evaluate_timeseries(timeseries, window_size, valid_split=0.15, test_split=0.15):\n",
        "    filter_length = 5\n",
        "    nb_filter = 4\n",
        "\n",
        "    timeseries = np.atleast_2d(timeseries)\n",
        "\n",
        "    if timeseries.shape[0] == 1:\n",
        "        timeseries = timeseries.T       # 1D vektor -> 2D matrix\n",
        "\n",
        "    nb_samples, nb_series = timeseries.shape\n",
        "\n",
        "    model = make_1d_convnet(window_size=window_size, filter_length=filter_length, nb_input_series=nb_series, nb_outputs=nb_series, nb_filter=nb_filter)\n",
        "    model.summary()\n",
        "\n",
        "    X, Y = make_timeseries_instances(timeseries, window_size)\n",
        "    \n",
        "    valid_size = int(nb_samples*(1-test_split-valid_split))\n",
        "    test_size = int(nb_samples*(1-test_split))\n",
        "    X_train, Y_train = X[:valid_size], Y[:valid_size]\n",
        "    X_valid, Y_valid = X[valid_size:test_size], Y[valid_size:test_size]\n",
        "    X_test, Y_test   = X[test_size:], Y[test_size:]\n",
        "    \n",
        "    model.fit(X_train, Y_train, epochs=50, batch_size=16, validation_data=(X_valid, Y_valid), verbose=2)\n",
        "    \n",
        "    preds = model.predict(X_test)\n",
        "\n",
        "    return Y_test, preds, model  # output the model to make forecast"
      ],
      "execution_count": 7,
      "outputs": []
    },
    {
      "cell_type": "markdown",
      "metadata": {
        "id": "mo-qbvnR6i74"
      },
      "source": [
        "Create and fit the model"
      ]
    },
    {
      "cell_type": "code",
      "metadata": {
        "id": "6biotBxrqdRw",
        "outputId": "a73238b1-bf68-4868-acc6-3bab06ab4602",
        "colab": {
          "base_uri": "https://localhost:8080/",
          "height": 1000
        }
      },
      "source": [
        "targets, preds, model = evaluate_timeseries(temp_data, window_size=20, valid_split=0.20, test_split=0.20)"
      ],
      "execution_count": 8,
      "outputs": [
        {
          "output_type": "stream",
          "text": [
            "Model: \"sequential\"\n",
            "_________________________________________________________________\n",
            "Layer (type)                 Output Shape              Param #   \n",
            "=================================================================\n",
            "conv1d (Conv1D)              (None, 16, 4)             24        \n",
            "_________________________________________________________________\n",
            "max_pooling1d (MaxPooling1D) (None, 8, 4)              0         \n",
            "_________________________________________________________________\n",
            "conv1d_1 (Conv1D)            (None, 4, 4)              84        \n",
            "_________________________________________________________________\n",
            "max_pooling1d_1 (MaxPooling1 (None, 2, 4)              0         \n",
            "_________________________________________________________________\n",
            "flatten (Flatten)            (None, 8)                 0         \n",
            "_________________________________________________________________\n",
            "dense (Dense)                (None, 1)                 9         \n",
            "=================================================================\n",
            "Total params: 117\n",
            "Trainable params: 117\n",
            "Non-trainable params: 0\n",
            "_________________________________________________________________\n",
            "Epoch 1/50\n",
            "6/6 - 0s - loss: 626.1780 - mae: 24.8431 - val_loss: 321.4493 - val_mae: 17.3854\n",
            "Epoch 2/50\n",
            "6/6 - 0s - loss: 615.3784 - mae: 24.6273 - val_loss: 316.4356 - val_mae: 17.2492\n",
            "Epoch 3/50\n",
            "6/6 - 0s - loss: 606.7814 - mae: 24.4546 - val_loss: 312.0375 - val_mae: 17.1312\n",
            "Epoch 4/50\n",
            "6/6 - 0s - loss: 599.3505 - mae: 24.3027 - val_loss: 307.7733 - val_mae: 17.0121\n",
            "Epoch 5/50\n",
            "6/6 - 0s - loss: 592.5104 - mae: 24.1627 - val_loss: 303.3444 - val_mae: 16.8841\n",
            "Epoch 6/50\n",
            "6/6 - 0s - loss: 585.4630 - mae: 24.0156 - val_loss: 297.9666 - val_mae: 16.7288\n",
            "Epoch 7/50\n",
            "6/6 - 0s - loss: 576.9511 - mae: 23.8380 - val_loss: 291.2953 - val_mae: 16.5295\n",
            "Epoch 8/50\n",
            "6/6 - 0s - loss: 566.5085 - mae: 23.6155 - val_loss: 282.7353 - val_mae: 16.2693\n",
            "Epoch 9/50\n",
            "6/6 - 0s - loss: 553.0514 - mae: 23.3277 - val_loss: 271.7702 - val_mae: 15.9296\n",
            "Epoch 10/50\n",
            "6/6 - 0s - loss: 535.9854 - mae: 22.9557 - val_loss: 257.8789 - val_mae: 15.4857\n",
            "Epoch 11/50\n",
            "6/6 - 0s - loss: 514.0333 - mae: 22.4698 - val_loss: 240.6579 - val_mae: 14.9181\n",
            "Epoch 12/50\n",
            "6/6 - 0s - loss: 486.3218 - mae: 21.8437 - val_loss: 219.9838 - val_mae: 14.2060\n",
            "Epoch 13/50\n",
            "6/6 - 0s - loss: 452.7954 - mae: 21.0445 - val_loss: 195.7812 - val_mae: 13.3239\n",
            "Epoch 14/50\n",
            "6/6 - 0s - loss: 412.6036 - mae: 20.0671 - val_loss: 168.4302 - val_mae: 12.2493\n",
            "Epoch 15/50\n",
            "6/6 - 0s - loss: 367.2509 - mae: 18.8684 - val_loss: 138.5044 - val_mae: 10.9515\n",
            "Epoch 16/50\n",
            "6/6 - 0s - loss: 315.4086 - mae: 17.4382 - val_loss: 107.8298 - val_mae: 9.4343\n",
            "Epoch 17/50\n",
            "6/6 - 0s - loss: 259.9316 - mae: 15.7601 - val_loss: 78.3287 - val_mae: 7.6908\n",
            "Epoch 18/50\n",
            "6/6 - 0s - loss: 204.2322 - mae: 13.8371 - val_loss: 52.2910 - val_mae: 5.8727\n",
            "Epoch 19/50\n",
            "6/6 - 0s - loss: 150.0751 - mae: 11.6835 - val_loss: 32.8376 - val_mae: 4.5828\n",
            "Epoch 20/50\n",
            "6/6 - 0s - loss: 102.1334 - mae: 9.3626 - val_loss: 22.5193 - val_mae: 3.9290\n",
            "Epoch 21/50\n",
            "6/6 - 0s - loss: 64.9106 - mae: 7.0029 - val_loss: 22.3589 - val_mae: 3.7797\n",
            "Epoch 22/50\n",
            "6/6 - 0s - loss: 39.0674 - mae: 5.1650 - val_loss: 31.0717 - val_mae: 4.4893\n",
            "Epoch 23/50\n",
            "6/6 - 0s - loss: 25.6063 - mae: 4.1143 - val_loss: 44.6476 - val_mae: 5.3514\n",
            "Epoch 24/50\n",
            "6/6 - 0s - loss: 20.4278 - mae: 3.7045 - val_loss: 57.2804 - val_mae: 6.2276\n",
            "Epoch 25/50\n",
            "6/6 - 0s - loss: 19.9552 - mae: 3.6543 - val_loss: 65.3246 - val_mae: 6.7734\n",
            "Epoch 26/50\n",
            "6/6 - 0s - loss: 20.6851 - mae: 3.7242 - val_loss: 68.2945 - val_mae: 6.9708\n",
            "Epoch 27/50\n",
            "6/6 - 0s - loss: 20.6646 - mae: 3.7120 - val_loss: 65.9570 - val_mae: 6.8184\n",
            "Epoch 28/50\n",
            "6/6 - 0s - loss: 20.1982 - mae: 3.6707 - val_loss: 63.5782 - val_mae: 6.6669\n",
            "Epoch 29/50\n",
            "6/6 - 0s - loss: 19.8754 - mae: 3.6476 - val_loss: 60.2494 - val_mae: 6.4467\n",
            "Epoch 30/50\n",
            "6/6 - 0s - loss: 19.7190 - mae: 3.6410 - val_loss: 57.4619 - val_mae: 6.2557\n",
            "Epoch 31/50\n",
            "6/6 - 0s - loss: 19.5995 - mae: 3.6322 - val_loss: 55.5294 - val_mae: 6.1199\n",
            "Epoch 32/50\n",
            "6/6 - 0s - loss: 19.5917 - mae: 3.6346 - val_loss: 54.4243 - val_mae: 6.0419\n",
            "Epoch 33/50\n",
            "6/6 - 0s - loss: 19.5458 - mae: 3.6271 - val_loss: 54.5012 - val_mae: 6.0503\n",
            "Epoch 34/50\n",
            "6/6 - 0s - loss: 19.4909 - mae: 3.6221 - val_loss: 54.9126 - val_mae: 6.0831\n",
            "Epoch 35/50\n",
            "6/6 - 0s - loss: 19.4719 - mae: 3.6235 - val_loss: 56.1402 - val_mae: 6.1749\n",
            "Epoch 36/50\n",
            "6/6 - 0s - loss: 19.4094 - mae: 3.6119 - val_loss: 56.9050 - val_mae: 6.2325\n",
            "Epoch 37/50\n",
            "6/6 - 0s - loss: 19.3823 - mae: 3.6099 - val_loss: 57.3279 - val_mae: 6.2650\n",
            "Epoch 38/50\n",
            "6/6 - 0s - loss: 19.3488 - mae: 3.6077 - val_loss: 56.6489 - val_mae: 6.2196\n",
            "Epoch 39/50\n",
            "6/6 - 0s - loss: 19.2922 - mae: 3.6039 - val_loss: 56.4963 - val_mae: 6.2116\n",
            "Epoch 40/50\n",
            "6/6 - 0s - loss: 19.2482 - mae: 3.6007 - val_loss: 56.0834 - val_mae: 6.1850\n",
            "Epoch 41/50\n",
            "6/6 - 0s - loss: 19.2090 - mae: 3.5972 - val_loss: 56.1191 - val_mae: 6.1905\n",
            "Epoch 42/50\n",
            "6/6 - 0s - loss: 19.1599 - mae: 3.5929 - val_loss: 56.2507 - val_mae: 6.2027\n",
            "Epoch 43/50\n",
            "6/6 - 0s - loss: 19.1291 - mae: 3.5911 - val_loss: 55.8040 - val_mae: 6.1737\n",
            "Epoch 44/50\n",
            "6/6 - 0s - loss: 19.0758 - mae: 3.5862 - val_loss: 55.6670 - val_mae: 6.1668\n",
            "Epoch 45/50\n",
            "6/6 - 0s - loss: 19.0475 - mae: 3.5824 - val_loss: 55.7204 - val_mae: 6.1736\n",
            "Epoch 46/50\n",
            "6/6 - 0s - loss: 18.9843 - mae: 3.5769 - val_loss: 55.1760 - val_mae: 6.1372\n",
            "Epoch 47/50\n",
            "6/6 - 0s - loss: 18.9642 - mae: 3.5758 - val_loss: 55.1506 - val_mae: 6.1382\n",
            "Epoch 48/50\n",
            "6/6 - 0s - loss: 18.9481 - mae: 3.5768 - val_loss: 53.7537 - val_mae: 6.0393\n",
            "Epoch 49/50\n",
            "6/6 - 0s - loss: 18.8852 - mae: 3.5705 - val_loss: 53.7018 - val_mae: 6.0385\n",
            "Epoch 50/50\n",
            "6/6 - 0s - loss: 18.8209 - mae: 3.5638 - val_loss: 53.9224 - val_mae: 6.0576\n"
          ],
          "name": "stdout"
        }
      ]
    },
    {
      "cell_type": "markdown",
      "metadata": {
        "id": "rYhlEdkF3BXq"
      },
      "source": [
        "Creating a forecaster"
      ]
    },
    {
      "cell_type": "code",
      "metadata": {
        "id": "_BF9ZPZfutTY"
      },
      "source": [
        "def forecast(model, timeseries, number_of_days):\n",
        "    assert len(timeseries) > 20, \"The length of timeseries should be larger then the window size (20) of the model\"\n",
        "\n",
        "    w = np.array([make_timeseries_instances(timeseries, 20)[0][-1, ...]])  # the last window\n",
        "\n",
        "    preds = []\n",
        "\n",
        "    for _ in range(number_of_days):\n",
        "        pred = model.predict(w)  # get new day prediction\n",
        "        preds.append(pred)\n",
        "        w = np.array([np.concatenate([w[0, 1:, ...], pred], axis=0)])  # push the window towards the future\n",
        "\n",
        "    return preds"
      ],
      "execution_count": 9,
      "outputs": []
    },
    {
      "cell_type": "code",
      "metadata": {
        "id": "GSW6eLkGy2Vt",
        "outputId": "9b67a7b9-7573-4ade-fd3b-c87c94381339",
        "colab": {
          "base_uri": "https://localhost:8080/",
          "height": 563
        }
      },
      "source": [
        "preds = forecast(model=model, timeseries=temp_data, number_of_days=30)\n",
        "\n",
        "preds"
      ],
      "execution_count": 10,
      "outputs": [
        {
          "output_type": "execute_result",
          "data": {
            "text/plain": [
              "[array([[17.163973]], dtype=float32),\n",
              " array([[15.22974]], dtype=float32),\n",
              " array([[13.369744]], dtype=float32),\n",
              " array([[10.25327]], dtype=float32),\n",
              " array([[8.260723]], dtype=float32),\n",
              " array([[8.51174]], dtype=float32),\n",
              " array([[9.112501]], dtype=float32),\n",
              " array([[10.581965]], dtype=float32),\n",
              " array([[11.997331]], dtype=float32),\n",
              " array([[13.041879]], dtype=float32),\n",
              " array([[13.556527]], dtype=float32),\n",
              " array([[14.357994]], dtype=float32),\n",
              " array([[14.673014]], dtype=float32),\n",
              " array([[15.713849]], dtype=float32),\n",
              " array([[16.312702]], dtype=float32),\n",
              " array([[16.617083]], dtype=float32),\n",
              " array([[14.425499]], dtype=float32),\n",
              " array([[11.953587]], dtype=float32),\n",
              " array([[9.073668]], dtype=float32),\n",
              " array([[6.9516306]], dtype=float32),\n",
              " array([[8.255027]], dtype=float32),\n",
              " array([[10.77294]], dtype=float32),\n",
              " array([[12.621778]], dtype=float32),\n",
              " array([[14.156595]], dtype=float32),\n",
              " array([[15.011261]], dtype=float32),\n",
              " array([[15.424967]], dtype=float32),\n",
              " array([[16.109367]], dtype=float32),\n",
              " array([[16.6128]], dtype=float32),\n",
              " array([[16.718412]], dtype=float32),\n",
              " array([[16.718977]], dtype=float32)]"
            ]
          },
          "metadata": {
            "tags": []
          },
          "execution_count": 10
        }
      ]
    },
    {
      "cell_type": "markdown",
      "metadata": {
        "id": "zcU3puXz3Rys"
      },
      "source": [
        "The last day in the temp_data is 2020 okt. 25, so we need: <br>\n",
        "okt. 28 : 3rd pred <br>\n",
        "nov. 3. : 10th pred <br>\n",
        "nov. 24 : 30th pred <br>"
      ]
    },
    {
      "cell_type": "code",
      "metadata": {
        "id": "ONLPo0Uxy6tl",
        "outputId": "5a788a19-f22f-4b15-a277-72e223dd99d1",
        "colab": {
          "base_uri": "https://localhost:8080/",
          "height": 108
        }
      },
      "source": [
        "print(\"Temperature forecast (celsius)\\n\")\n",
        "print(f\"Okt. 28 : {preds[2][0, 0]}\\nnov.  3 : {preds[10][0, 0]}\\nnov. 24 : {preds[29][0, 0]}\")"
      ],
      "execution_count": 11,
      "outputs": [
        {
          "output_type": "stream",
          "text": [
            "Temperature forecast (celsius)\n",
            "\n",
            "Okt. 28 : 13.369744300842285\n",
            "nov.  3 : 13.556527137756348\n",
            "nov. 24 : 16.718976974487305\n"
          ],
          "name": "stdout"
        }
      ]
    },
    {
      "cell_type": "code",
      "metadata": {
        "id": "_zFHqFpl4TH5"
      },
      "source": [
        ""
      ],
      "execution_count": 11,
      "outputs": []
    }
  ]
}