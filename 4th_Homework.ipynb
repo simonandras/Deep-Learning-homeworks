{
  "nbformat": 4,
  "nbformat_minor": 0,
  "metadata": {
    "colab": {
      "name": "4th_Homework.ipynb",
      "provenance": []
    },
    "kernelspec": {
      "name": "python3",
      "display_name": "Python 3"
    },
    "accelerator": "GPU"
  },
  "cells": [
    {
      "cell_type": "markdown",
      "metadata": {
        "id": "FBkbBPT3MHkX"
      },
      "source": [
        "# 4th Homework\n",
        "## András Simon\n",
        "---"
      ]
    },
    {
      "cell_type": "markdown",
      "metadata": {
        "id": "lbrSIageLsOT"
      },
      "source": [
        "Using OIDv4_ToolKit for downloading from Open Images Dateset"
      ]
    },
    {
      "cell_type": "code",
      "metadata": {
        "id": "cA0fd3Jd0LW0"
      },
      "source": [
        "!git clone https://github.com/EscVM/OIDv4_ToolKit.git"
      ],
      "execution_count": null,
      "outputs": []
    },
    {
      "cell_type": "code",
      "metadata": {
        "id": "Kywt4u4o07ut",
        "outputId": "7b545b25-a31d-484e-970c-fc895cad9242",
        "colab": {
          "base_uri": "https://localhost:8080/"
        }
      },
      "source": [
        "%cd OIDv4_ToolKit/"
      ],
      "execution_count": 2,
      "outputs": [
        {
          "output_type": "stream",
          "text": [
            "/content/OIDv4_ToolKit\n"
          ],
          "name": "stdout"
        }
      ]
    },
    {
      "cell_type": "code",
      "metadata": {
        "id": "uO9GCmZF0uaB"
      },
      "source": [
        "!pip3 install -r requirements.txt"
      ],
      "execution_count": null,
      "outputs": []
    },
    {
      "cell_type": "markdown",
      "metadata": {
        "id": "I66BPVBHMSUi"
      },
      "source": [
        "We can download the files using the main.py. The desired class names and the data section (train, validation or test) can be adjusted."
      ]
    },
    {
      "cell_type": "code",
      "metadata": {
        "id": "ReCVHn_50zJ8"
      },
      "source": [
        "!python main.py downloader --classes Apple Orange Dog --type_csv train --limit 400"
      ],
      "execution_count": null,
      "outputs": []
    },
    {
      "cell_type": "code",
      "metadata": {
        "id": "oJqk8DUr2d_m"
      },
      "source": [
        "!python main.py downloader --classes Apple Orange Dog --type_csv validation --limit 100"
      ],
      "execution_count": null,
      "outputs": []
    },
    {
      "cell_type": "code",
      "metadata": {
        "id": "OyvXdiow2vlM"
      },
      "source": [
        "!python main.py downloader --classes Apple Orange Dog --type_csv test --limit 100"
      ],
      "execution_count": null,
      "outputs": []
    },
    {
      "cell_type": "markdown",
      "metadata": {
        "id": "uU0Eh8ofNljs"
      },
      "source": [
        "Import some basic libraries"
      ]
    },
    {
      "cell_type": "code",
      "metadata": {
        "id": "6EO4bSHMF-Y8"
      },
      "source": [
        "import numpy as np\n",
        "import matplotlib.pyplot as plt\n",
        "import os"
      ],
      "execution_count": 7,
      "outputs": []
    },
    {
      "cell_type": "markdown",
      "metadata": {
        "id": "Ogb11uXeNuSr"
      },
      "source": [
        "After the download, lets save the directory names for the ImageDataGenerator"
      ]
    },
    {
      "cell_type": "code",
      "metadata": {
        "id": "u_UujdTjGvtR"
      },
      "source": [
        "base_dir = '/content/OIDv4_ToolKit/OID/Dataset/'\n",
        "train_dir = os.path.join(base_dir, 'train')\n",
        "validation_dir = os.path.join(base_dir, 'validation')\n",
        "test_dir = os.path.join(base_dir, 'test')"
      ],
      "execution_count": 17,
      "outputs": []
    },
    {
      "cell_type": "markdown",
      "metadata": {
        "id": "yOZL_o8EOOPk"
      },
      "source": [
        "Import InceptionV3 and other used things form tensorflow.keras"
      ]
    },
    {
      "cell_type": "code",
      "metadata": {
        "id": "m39kew-2JV8K"
      },
      "source": [
        "from tensorflow.keras.models import Model\n",
        "from tensorflow.keras.preprocessing.image import ImageDataGenerator\n",
        "from tensorflow.keras.applications.inception_v3 import InceptionV3, preprocess_input, decode_predictions\n",
        "from tensorflow.keras.preprocessing import image\n",
        "from tensorflow.keras.optimizers import SGD\n",
        "from tensorflow.keras.layers import Dense, GlobalAveragePooling2D\n",
        "from tensorflow.keras import backend as K"
      ],
      "execution_count": 9,
      "outputs": []
    },
    {
      "cell_type": "markdown",
      "metadata": {
        "id": "Jah8xFRXOc0_"
      },
      "source": [
        "Set the image width and heigth for the ImageDataGenerator"
      ]
    },
    {
      "cell_type": "code",
      "metadata": {
        "id": "U4IJzPu7JdWK"
      },
      "source": [
        "img_height=299\n",
        "img_width=299"
      ],
      "execution_count": 10,
      "outputs": []
    },
    {
      "cell_type": "markdown",
      "metadata": {
        "id": "MFbgj8rHOvjW"
      },
      "source": [
        "The following part is based on the CNN-transfer-learning-Keras.ipynb notebook from the practice"
      ]
    },
    {
      "cell_type": "markdown",
      "metadata": {
        "id": "6B_z9wHYPDy0"
      },
      "source": [
        "Create the model"
      ]
    },
    {
      "cell_type": "code",
      "metadata": {
        "id": "Q8tCpnnHJiFa",
        "outputId": "c4d089de-c2f1-4df4-c97a-9cf76db2ca0a",
        "colab": {
          "base_uri": "https://localhost:8080/"
        }
      },
      "source": [
        "base_model = InceptionV3(weights='imagenet', include_top=False)\n",
        "x = base_model.output\n",
        "\n",
        "x = GlobalAveragePooling2D()(x)\n",
        "x = Dense(1024, activation='relu')(x)\n",
        "predictions = Dense(3, activation='softmax')(x)\n",
        "\n",
        "model = Model(inputs=base_model.input, outputs=predictions)"
      ],
      "execution_count": 11,
      "outputs": [
        {
          "output_type": "stream",
          "text": [
            "Downloading data from https://storage.googleapis.com/tensorflow/keras-applications/inception_v3/inception_v3_weights_tf_dim_ordering_tf_kernels_notop.h5\n",
            "87916544/87910968 [==============================] - 0s 0us/step\n"
          ],
          "name": "stdout"
        }
      ]
    },
    {
      "cell_type": "markdown",
      "metadata": {
        "id": "NDl5PPQKPPvS"
      },
      "source": [
        "Freeze the layers of the original InceptionV3 part of the model"
      ]
    },
    {
      "cell_type": "code",
      "metadata": {
        "id": "-CUNLL0LKDau"
      },
      "source": [
        "for layer in base_model.layers:\n",
        "    layer.trainable = False\n",
        "\n",
        "model.compile(optimizer='adam', metrics=['accuracy'],loss='categorical_crossentropy')"
      ],
      "execution_count": 12,
      "outputs": []
    },
    {
      "cell_type": "markdown",
      "metadata": {
        "id": "Cy7QctkRPaw1"
      },
      "source": [
        "Using ImageDataGenerator for training "
      ]
    },
    {
      "cell_type": "code",
      "metadata": {
        "id": "Re6S056IKLeO",
        "outputId": "200e6458-1a01-421b-945d-341b1fc2bf4b",
        "colab": {
          "base_uri": "https://localhost:8080/"
        }
      },
      "source": [
        "train_datagen = ImageDataGenerator(rescale=1./255, shear_range=0.2, zoom_range=0.2, horizontal_flip=True)\n",
        "test_datagen = ImageDataGenerator(rescale=1./255)\n",
        "train_generator = train_datagen.flow_from_directory(train_dir, target_size=(img_height, img_width), batch_size=20, class_mode='categorical')\n",
        "validation_generator = test_datagen.flow_from_directory(validation_dir, target_size=(img_height, img_width), batch_size=20, class_mode='categorical')"
      ],
      "execution_count": 13,
      "outputs": [
        {
          "output_type": "stream",
          "text": [
            "Found 1200 images belonging to 3 classes.\n",
            "Found 207 images belonging to 3 classes.\n"
          ],
          "name": "stdout"
        }
      ]
    },
    {
      "cell_type": "markdown",
      "metadata": {
        "id": "n8ae-ShkPipN"
      },
      "source": [
        "Train only for 3 epoch"
      ]
    },
    {
      "cell_type": "code",
      "metadata": {
        "id": "s3LAlkZiKc4B",
        "outputId": "6e0aba6b-eb34-4ca0-f89f-c00ad14660ca",
        "colab": {
          "base_uri": "https://localhost:8080/"
        }
      },
      "source": [
        "model.fit_generator(train_generator,\n",
        "                    steps_per_epoch=30,\n",
        "                    validation_data=validation_generator,\n",
        "                    validation_steps=10,\n",
        "                    epochs=3)"
      ],
      "execution_count": 14,
      "outputs": [
        {
          "output_type": "stream",
          "text": [
            "WARNING:tensorflow:From <ipython-input-14-15b5ce5bc8da>:5: Model.fit_generator (from tensorflow.python.keras.engine.training) is deprecated and will be removed in a future version.\n",
            "Instructions for updating:\n",
            "Please use Model.fit, which supports generators.\n",
            "Epoch 1/3\n",
            "30/30 [==============================] - 23s 761ms/step - loss: 0.8451 - accuracy: 0.7100 - val_loss: 0.1256 - val_accuracy: 0.9700\n",
            "Epoch 2/3\n",
            "30/30 [==============================] - 22s 736ms/step - loss: 0.2878 - accuracy: 0.8867 - val_loss: 0.0768 - val_accuracy: 0.9700\n",
            "Epoch 3/3\n",
            "30/30 [==============================] - 22s 740ms/step - loss: 0.3559 - accuracy: 0.8800 - val_loss: 0.1080 - val_accuracy: 0.9550\n"
          ],
          "name": "stdout"
        },
        {
          "output_type": "execute_result",
          "data": {
            "text/plain": [
              "<tensorflow.python.keras.callbacks.History at 0x7f0fa00512b0>"
            ]
          },
          "metadata": {
            "tags": []
          },
          "execution_count": 14
        }
      ]
    },
    {
      "cell_type": "markdown",
      "metadata": {
        "id": "GCyhoGHUR_Ed"
      },
      "source": [
        "Now train the upper convolution layers too"
      ]
    },
    {
      "cell_type": "code",
      "metadata": {
        "id": "EqsJEX1_KwzC"
      },
      "source": [
        "for layer in model.layers[:172]:\n",
        "       layer.trainable = False\n",
        "for layer in model.layers[172:]:\n",
        "       layer.trainable = True\n",
        "\n",
        "model.compile(optimizer='adam', metrics=['accuracy'],loss='categorical_crossentropy')"
      ],
      "execution_count": 14,
      "outputs": []
    },
    {
      "cell_type": "code",
      "metadata": {
        "id": "pMgrJj3ZR3n1",
        "outputId": "03612256-408e-4113-cfb0-edd8bc98815a",
        "colab": {
          "base_uri": "https://localhost:8080/"
        }
      },
      "source": [
        "model.fit_generator(train_generator,\n",
        "                    steps_per_epoch=30,\n",
        "                    validation_data=validation_generator,\n",
        "                    validation_steps=10,\n",
        "                    epochs=3)"
      ],
      "execution_count": 15,
      "outputs": [
        {
          "output_type": "stream",
          "text": [
            "Epoch 1/3\n",
            "30/30 [==============================] - 22s 744ms/step - loss: 0.3581 - accuracy: 0.8700 - val_loss: 0.1129 - val_accuracy: 0.9650\n",
            "Epoch 2/3\n",
            "30/30 [==============================] - 22s 731ms/step - loss: 0.2319 - accuracy: 0.9117 - val_loss: 0.0854 - val_accuracy: 0.9600\n",
            "Epoch 3/3\n",
            "30/30 [==============================] - 22s 737ms/step - loss: 0.1643 - accuracy: 0.9333 - val_loss: 0.0744 - val_accuracy: 0.9750\n"
          ],
          "name": "stdout"
        },
        {
          "output_type": "execute_result",
          "data": {
            "text/plain": [
              "<tensorflow.python.keras.callbacks.History at 0x7f0f8ef45208>"
            ]
          },
          "metadata": {
            "tags": []
          },
          "execution_count": 15
        }
      ]
    },
    {
      "cell_type": "markdown",
      "metadata": {
        "id": "B9V5fFC1Ucv3"
      },
      "source": [
        "Test with evaluate_generator"
      ]
    },
    {
      "cell_type": "code",
      "metadata": {
        "id": "GVE_di9HSYlr",
        "outputId": "7deda343-f035-4ef4-d019-951749f7e9d1",
        "colab": {
          "base_uri": "https://localhost:8080/"
        }
      },
      "source": [
        "test_generator = test_datagen.flow_from_directory(test_dir, target_size=(img_height, img_width), batch_size=20, class_mode='categorical')"
      ],
      "execution_count": 18,
      "outputs": [
        {
          "output_type": "stream",
          "text": [
            "Found 300 images belonging to 3 classes.\n"
          ],
          "name": "stdout"
        }
      ]
    },
    {
      "cell_type": "code",
      "metadata": {
        "id": "FEOsrB1pU33D",
        "outputId": "5eb833fd-9527-4799-84a1-c0ec27797b55",
        "colab": {
          "base_uri": "https://localhost:8080/"
        }
      },
      "source": [
        "model.evaluate_generator(test_generator)"
      ],
      "execution_count": 19,
      "outputs": [
        {
          "output_type": "stream",
          "text": [
            "WARNING:tensorflow:From <ipython-input-19-faa0e9406f88>:1: Model.evaluate_generator (from tensorflow.python.keras.engine.training) is deprecated and will be removed in a future version.\n",
            "Instructions for updating:\n",
            "Please use Model.evaluate, which supports generators.\n"
          ],
          "name": "stdout"
        },
        {
          "output_type": "execute_result",
          "data": {
            "text/plain": [
              "[0.17551380395889282, 0.9300000071525574]"
            ]
          },
          "metadata": {
            "tags": []
          },
          "execution_count": 19
        }
      ]
    },
    {
      "cell_type": "code",
      "metadata": {
        "id": "5fAqklQnVCS2",
        "outputId": "75a5edde-c843-4b54-a219-97c16ed093f0",
        "colab": {
          "base_uri": "https://localhost:8080/"
        }
      },
      "source": [
        "model.metrics_names"
      ],
      "execution_count": 20,
      "outputs": [
        {
          "output_type": "execute_result",
          "data": {
            "text/plain": [
              "['loss', 'accuracy']"
            ]
          },
          "metadata": {
            "tags": []
          },
          "execution_count": 20
        }
      ]
    },
    {
      "cell_type": "markdown",
      "metadata": {
        "id": "GOlW2YUYXCtS"
      },
      "source": [
        "The output of evaluate_generator is loss and accuracy"
      ]
    },
    {
      "cell_type": "code",
      "metadata": {
        "id": "tlvNQmI_W-k8"
      },
      "source": [
        ""
      ],
      "execution_count": null,
      "outputs": []
    }
  ]
}